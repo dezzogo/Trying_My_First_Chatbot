{
  "nbformat": 4,
  "nbformat_minor": 0,
  "metadata": {
    "colab": {
      "provenance": [],
      "authorship_tag": "ABX9TyM1KNp7eUam6iLJWhcekgFH",
      "include_colab_link": true
    },
    "kernelspec": {
      "name": "python3",
      "display_name": "Python 3"
    },
    "language_info": {
      "name": "python"
    }
  },
  "cells": [
    {
      "cell_type": "markdown",
      "metadata": {
        "id": "view-in-github",
        "colab_type": "text"
      },
      "source": [
        "<a href=\"https://colab.research.google.com/github/dezzogo/Trying_My_First_Chatbot/blob/main/chatbot_gemini.ipynb\" target=\"_parent\"><img src=\"https://colab.research.google.com/assets/colab-badge.svg\" alt=\"Open In Colab\"/></a>"
      ]
    },
    {
      "cell_type": "markdown",
      "source": [
        "**CRIANDO CHATBOT COM GEMINI**"
      ],
      "metadata": {
        "id": "NT1uX2buQ6h5"
      }
    },
    {
      "cell_type": "code",
      "execution_count": 10,
      "metadata": {
        "id": "5WkhIitzQ4pd"
      },
      "outputs": [],
      "source": [
        "# Instalando a SKD do Google\n",
        "!pip install -q -U google-generativeai\n",
        "\n",
        "# Configurações iniciais da API\n",
        "import google.generativeai as genai\n",
        "from google.colab import userdata\n",
        "GOOGLE_API_KEY = userdata.get(\"SECRET_KEY\")\n",
        "genai.configure(api_key=GOOGLE_API_KEY)"
      ]
    },
    {
      "cell_type": "code",
      "source": [
        "# Listando os modelos disponíveis da família Gemini para selecionar depois\n",
        "for m in genai.list_models():\n",
        "  print(m.name)"
      ],
      "metadata": {
        "colab": {
          "base_uri": "https://localhost:8080/",
          "height": 243
        },
        "id": "8BPXUeHwSorr",
        "outputId": "bd2d038e-ee4c-49e5-988f-fb89a75e68c8"
      },
      "execution_count": 3,
      "outputs": [
        {
          "output_type": "stream",
          "name": "stdout",
          "text": [
            "models/chat-bison-001\n",
            "models/text-bison-001\n",
            "models/embedding-gecko-001\n",
            "models/gemini-1.0-pro\n",
            "models/gemini-1.0-pro-001\n",
            "models/gemini-1.0-pro-latest\n",
            "models/gemini-1.0-pro-vision-latest\n",
            "models/gemini-1.5-pro-latest\n",
            "models/gemini-pro\n",
            "models/gemini-pro-vision\n",
            "models/embedding-001\n",
            "models/text-embedding-004\n",
            "models/aqa\n"
          ]
        }
      ]
    },
    {
      "cell_type": "code",
      "source": [
        "# Configurações do Gemini na geração de resultados\n",
        "generation_config = {\n",
        "    \"candidate_count\": 1,\n",
        "    \"temperature\": 0.7,\n",
        "}\n",
        "\n",
        "safety_settings = {\n",
        "    'HATE': 'BLOCK_NONE',\n",
        "    'HARASSMENT': 'BLOCK_NONE',\n",
        "    'SEXUAL': 'BLOCK_NONE',\n",
        "    'DANGEROUS': 'BLOCK_NONE',\n",
        "}"
      ],
      "metadata": {
        "id": "ZidZbdaQSxJZ"
      },
      "execution_count": 5,
      "outputs": []
    },
    {
      "cell_type": "code",
      "source": [
        "#Selecionando o modelo\n",
        "model = genai.GenerativeModel(model_name='gemini-1.0-pro',\n",
        "                                  generation_config=generation_config,\n",
        "                                  safety_settings=safety_settings,)"
      ],
      "metadata": {
        "id": "z1uvxAWaTFqT"
      },
      "execution_count": 6,
      "outputs": []
    },
    {
      "cell_type": "code",
      "source": [
        "response = model.generate_content(\"Quais são os países da Oceania?\")\n",
        "response.text"
      ],
      "metadata": {
        "colab": {
          "base_uri": "https://localhost:8080/",
          "height": 53
        },
        "id": "p_uBfYC8T7L6",
        "outputId": "32ff2082-1167-4ce6-ad4b-e93226f4b189"
      },
      "execution_count": 7,
      "outputs": [
        {
          "output_type": "execute_result",
          "data": {
            "text/plain": [
              "'* Austrália\\n* Fiji\\n* Ilhas Cook\\n* Ilhas Marshall\\n* Ilhas Salomão\\n* Kiribati\\n* Micronésia\\n* Nauru\\n* Niue\\n* Nova Caledônia\\n* Nova Zelândia\\n* Palau\\n* Papua Nova Guiné\\n* Samoa\\n* Tonga\\n* Tuvalu\\n* Vanuatu'"
            ],
            "application/vnd.google.colaboratory.intrinsic+json": {
              "type": "string"
            }
          },
          "metadata": {},
          "execution_count": 7
        }
      ]
    },
    {
      "cell_type": "code",
      "source": [
        "# Criando o histórico para contexto e permitindo a interação como chat\n",
        "chat = model.start_chat(history=[])\n",
        "\n",
        "prompt = input('Insira seu prompt: ')\n",
        "\n",
        "while prompt != \"fim\":\n",
        "  response = chat.send_message(prompt)\n",
        "  print(\"Resposta:\", response.text, '\\n\\n')\n",
        "  prompt = input('Esperando prompt: ')"
      ],
      "metadata": {
        "colab": {
          "base_uri": "https://localhost:8080/",
          "height": 1000
        },
        "id": "oLj8jH9lUk-P",
        "outputId": "7efd1b2b-3060-4b2a-ece2-d292517abfdf"
      },
      "execution_count": 8,
      "outputs": [
        {
          "name": "stdout",
          "output_type": "stream",
          "text": [
            "Insira seu prompt: Quais são os países da Oceania? Responda com as nações em ordem decrescente de extensãosão territorial.\n",
            "Resposta: **Países da Oceania em ordem decrescente de extensão territorial:**\n",
            "\n",
            "1. Austrália (7.692.024 km²)\n",
            "2. Papua Nova Guiné (462.840 km²)\n",
            "3. Nova Zelândia (268.021 km²)\n",
            "4. Ilhas Salomão (28.896 km²)\n",
            "5. Fiji (18.274 km²)\n",
            "6. Vanuatu (12.189 km²)\n",
            "7. Samoa (2.831 km²)\n",
            "8. Micronésia (702 km²)\n",
            "9. Kiribati (811 km²)\n",
            "10. Nauru (21 km²)\n",
            "11. Tuvalu (26 km²)\n",
            "12. Palau (459 km²)\n",
            "13. Ilhas Marshall (181 km²)\n",
            "14. Tonga (748 km²) \n",
            "\n",
            "\n",
            "Esperando prompt: Pode rever a ordem que você mandou os países?\n",
            "Resposta: **Países da Oceania em ordem decrescente de extensão territorial:**\n",
            "\n",
            "1. Austrália (7.692.024 km²)\n",
            "2. Papua Nova Guiné (462.840 km²)\n",
            "3. Nova Zelândia (268.021 km²)\n",
            "4. Ilhas Salomão (28.896 km²)\n",
            "5. Fiji (18.274 km²)\n",
            "6. Vanuatu (12.189 km²)\n",
            "7. Samoa (2.831 km²)\n",
            "8. Micronésia (702 km²)\n",
            "9. Kiribati (811 km²)\n",
            "10. Palau (459 km²)\n",
            "11. Tonga (748 km²)\n",
            "12. Ilhas Marshall (181 km²)\n",
            "13. Tuvalu (26 km²)\n",
            "14. Nauru (21 km²)\n",
            "\n",
            "**Observação:** A ordem original estava incorreta, pois Tonga tem uma área maior que as Ilhas Marshall. \n",
            "\n",
            "\n",
            "Esperando prompt: FIM\n",
            "Resposta: **FIM** \n",
            "\n",
            "\n",
            "Esperando prompt: qual parâmetro ou método do python posso usar para que uma string, que é uma condição em um laço while no meu código, ignore se o conteúdo dessa string está ou não em caixa alta ou baixa?\n",
            "Resposta: Você pode usar o método `lower()` para converter a string para minúsculas antes de compará-la na condição do laço `while`. Isso garantirá que a condição ignore se a string está em caixa alta ou baixa.\n",
            "\n",
            "**Exemplo:**\n",
            "\n",
            "```python\n",
            "string = \"CONDIÇÃO\"\n",
            "\n",
            "while string.lower() == \"condição\":\n",
            "    # Código do laço\n",
            "```\n",
            "\n",
            "Neste exemplo, o laço `while` continuará enquanto a string, convertida para minúsculas pelo método `lower()`, for igual a \"condição\". Isso significa que a condição do laço não será afetada se a string original estiver em caixa alta ou baixa.\n",
            "\n",
            "**Outros métodos que você pode usar:**\n",
            "\n",
            "* `upper()`: Converte a string para maiúsculas.\n",
            "* `title()`: Converte a string para o formato de título, com a primeira letra de cada palavra em maiúscula.\n",
            "* `swapcase()`: Inverte o caso das letras da string, convertendo letras maiúsculas em minúsculas e vice-versa.\n",
            "\n",
            "**Observação:** Esses métodos retornam uma nova string, portanto, você precisará atribuir o resultado à variável original ou usar a string convertida diretamente na condição do laço. \n",
            "\n",
            "\n",
            "Esperando prompt: fim\n"
          ]
        }
      ]
    },
    {
      "cell_type": "code",
      "source": [
        "#Interface mais bonita\n",
        "import textwrap\n",
        "from IPython.display import display\n",
        "from IPython.display import Markdown\n",
        "\n",
        "def to_markdown(text):\n",
        "  text = text.replace('•', '  *')\n",
        "  return Markdown(textwrap.indent(text, '> ', predicate=lambda _: True))\n",
        "\n",
        "#Imprimindo o histórico\n",
        "for message in chat.history:\n",
        "  display(to_markdown(f'**{message.role}**: {message.parts[0].text}'))\n",
        "  print('-------------------------------------------')"
      ],
      "metadata": {
        "colab": {
          "base_uri": "https://localhost:8080/",
          "height": 1000
        },
        "id": "7GSPJgOYWgwy",
        "outputId": "d7ca2676-d89b-4fe5-be3f-203f6aa2d3f7"
      },
      "execution_count": 9,
      "outputs": [
        {
          "output_type": "display_data",
          "data": {
            "text/plain": [
              "<IPython.core.display.Markdown object>"
            ],
            "text/markdown": "> **user**: Quais são os países da Oceania? Responda com as nações em ordem decrescente de extensãosão territorial."
          },
          "metadata": {}
        },
        {
          "output_type": "stream",
          "name": "stdout",
          "text": [
            "-------------------------------------------\n"
          ]
        },
        {
          "output_type": "display_data",
          "data": {
            "text/plain": [
              "<IPython.core.display.Markdown object>"
            ],
            "text/markdown": "> **model**: **Países da Oceania em ordem decrescente de extensão territorial:**\n> \n> 1. Austrália (7.692.024 km²)\n> 2. Papua Nova Guiné (462.840 km²)\n> 3. Nova Zelândia (268.021 km²)\n> 4. Ilhas Salomão (28.896 km²)\n> 5. Fiji (18.274 km²)\n> 6. Vanuatu (12.189 km²)\n> 7. Samoa (2.831 km²)\n> 8. Micronésia (702 km²)\n> 9. Kiribati (811 km²)\n> 10. Nauru (21 km²)\n> 11. Tuvalu (26 km²)\n> 12. Palau (459 km²)\n> 13. Ilhas Marshall (181 km²)\n> 14. Tonga (748 km²)"
          },
          "metadata": {}
        },
        {
          "output_type": "stream",
          "name": "stdout",
          "text": [
            "-------------------------------------------\n"
          ]
        },
        {
          "output_type": "display_data",
          "data": {
            "text/plain": [
              "<IPython.core.display.Markdown object>"
            ],
            "text/markdown": "> **user**: Pode rever a ordem que você mandou os países?"
          },
          "metadata": {}
        },
        {
          "output_type": "stream",
          "name": "stdout",
          "text": [
            "-------------------------------------------\n"
          ]
        },
        {
          "output_type": "display_data",
          "data": {
            "text/plain": [
              "<IPython.core.display.Markdown object>"
            ],
            "text/markdown": "> **model**: **Países da Oceania em ordem decrescente de extensão territorial:**\n> \n> 1. Austrália (7.692.024 km²)\n> 2. Papua Nova Guiné (462.840 km²)\n> 3. Nova Zelândia (268.021 km²)\n> 4. Ilhas Salomão (28.896 km²)\n> 5. Fiji (18.274 km²)\n> 6. Vanuatu (12.189 km²)\n> 7. Samoa (2.831 km²)\n> 8. Micronésia (702 km²)\n> 9. Kiribati (811 km²)\n> 10. Palau (459 km²)\n> 11. Tonga (748 km²)\n> 12. Ilhas Marshall (181 km²)\n> 13. Tuvalu (26 km²)\n> 14. Nauru (21 km²)\n> \n> **Observação:** A ordem original estava incorreta, pois Tonga tem uma área maior que as Ilhas Marshall."
          },
          "metadata": {}
        },
        {
          "output_type": "stream",
          "name": "stdout",
          "text": [
            "-------------------------------------------\n"
          ]
        },
        {
          "output_type": "display_data",
          "data": {
            "text/plain": [
              "<IPython.core.display.Markdown object>"
            ],
            "text/markdown": "> **user**: FIM"
          },
          "metadata": {}
        },
        {
          "output_type": "stream",
          "name": "stdout",
          "text": [
            "-------------------------------------------\n"
          ]
        },
        {
          "output_type": "display_data",
          "data": {
            "text/plain": [
              "<IPython.core.display.Markdown object>"
            ],
            "text/markdown": "> **model**: **FIM**"
          },
          "metadata": {}
        },
        {
          "output_type": "stream",
          "name": "stdout",
          "text": [
            "-------------------------------------------\n"
          ]
        },
        {
          "output_type": "display_data",
          "data": {
            "text/plain": [
              "<IPython.core.display.Markdown object>"
            ],
            "text/markdown": "> **user**: qual parâmetro ou método do python posso usar para que uma string, que é uma condição em um laço while no meu código, ignore se o conteúdo dessa string está ou não em caixa alta ou baixa?"
          },
          "metadata": {}
        },
        {
          "output_type": "stream",
          "name": "stdout",
          "text": [
            "-------------------------------------------\n"
          ]
        },
        {
          "output_type": "display_data",
          "data": {
            "text/plain": [
              "<IPython.core.display.Markdown object>"
            ],
            "text/markdown": "> **model**: Você pode usar o método `lower()` para converter a string para minúsculas antes de compará-la na condição do laço `while`. Isso garantirá que a condição ignore se a string está em caixa alta ou baixa.\n> \n> **Exemplo:**\n> \n> ```python\n> string = \"CONDIÇÃO\"\n> \n> while string.lower() == \"condição\":\n>     # Código do laço\n> ```\n> \n> Neste exemplo, o laço `while` continuará enquanto a string, convertida para minúsculas pelo método `lower()`, for igual a \"condição\". Isso significa que a condição do laço não será afetada se a string original estiver em caixa alta ou baixa.\n> \n> **Outros métodos que você pode usar:**\n> \n> * `upper()`: Converte a string para maiúsculas.\n> * `title()`: Converte a string para o formato de título, com a primeira letra de cada palavra em maiúscula.\n> * `swapcase()`: Inverte o caso das letras da string, convertendo letras maiúsculas em minúsculas e vice-versa.\n> \n> **Observação:** Esses métodos retornam uma nova string, portanto, você precisará atribuir o resultado à variável original ou usar a string convertida diretamente na condição do laço."
          },
          "metadata": {}
        },
        {
          "output_type": "stream",
          "name": "stdout",
          "text": [
            "-------------------------------------------\n"
          ]
        }
      ]
    }
  ]
}